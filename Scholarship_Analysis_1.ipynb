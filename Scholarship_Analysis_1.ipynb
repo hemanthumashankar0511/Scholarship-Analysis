{
  "metadata": {
    "kernelspec": {
      "language": "python",
      "display_name": "Python 3",
      "name": "python3"
    },
    "language_info": {
      "name": "python",
      "version": "3.10.12",
      "mimetype": "text/x-python",
      "codemirror_mode": {
        "name": "ipython",
        "version": 3
      },
      "pygments_lexer": "ipython3",
      "nbconvert_exporter": "python",
      "file_extension": ".py"
    },
    "colab": {
      "provenance": [],
      "include_colab_link": true
    }
  },
  "nbformat_minor": 0,
  "nbformat": 4,
  "cells": [
    {
      "cell_type": "markdown",
      "metadata": {
        "id": "view-in-github",
        "colab_type": "text"
      },
      "source": [
        "<a href=\"https://colab.research.google.com/github/hemanthumashankar0511/Scholarship-Analysis/blob/main/Scholarship_Analysis_1.ipynb\" target=\"_parent\"><img src=\"https://colab.research.google.com/assets/colab-badge.svg\" alt=\"Open In Colab\"/></a>"
      ]
    },
    {
      "cell_type": "code",
      "source": [
        "import numpy as np\n",
        "import pandas as pd\n",
        "import matplotlib.pyplot as plt\n",
        "import seaborn as sns\n",
        "%matplotlib inline\n",
        "sns.set_palette(\"rocket\")\n",
        "from sklearn.naive_bayes import GaussianNB\n",
        "from sklearn.model_selection import train_test_split\n",
        "from sklearn.ensemble import RandomForestClassifier\n",
        "from sklearn.metrics import accuracy_score, precision_score, recall_score, f1_score,confusion_matrix,classification_report"
      ],
      "metadata": {
        "_uuid": "85d019f9-a056-4206-9b74-084ebc321219",
        "_cell_guid": "a36f4560-1009-4bfb-b4b0-52eb32a39762",
        "jupyter": {
          "outputs_hidden": false
        },
        "execution": {
          "iopub.status.busy": "2023-09-02T05:00:02.184148Z",
          "iopub.execute_input": "2023-09-02T05:00:02.185048Z",
          "iopub.status.idle": "2023-09-02T05:00:03.855582Z",
          "shell.execute_reply.started": "2023-09-02T05:00:02.184997Z",
          "shell.execute_reply": "2023-09-02T05:00:03.854318Z"
        },
        "trusted": true,
        "id": "2YqaSUhVHdd_"
      },
      "execution_count": null,
      "outputs": []
    },
    {
      "cell_type": "code",
      "source": [
        "from google.colab import drive\n",
        "drive.mount('/content/drive')"
      ],
      "metadata": {
        "colab": {
          "base_uri": "https://localhost:8080/"
        },
        "id": "WSKaJ-cbqDS5",
        "outputId": "57c2bb93-21f0-4a11-f982-9c4fd6bb581d"
      },
      "execution_count": null,
      "outputs": [
        {
          "output_type": "stream",
          "name": "stdout",
          "text": [
            "Mounted at /content/drive\n"
          ]
        }
      ]
    },
    {
      "cell_type": "code",
      "source": [
        "df = pd.read_excel(\"/content/drive/MyDrive/IS.xlsx\")"
      ],
      "metadata": {
        "_uuid": "d33bc195-0e04-4b3b-a94b-9a9adcd46c8e",
        "_cell_guid": "d3a30309-c281-4cd8-85ae-021427bbec86",
        "jupyter": {
          "outputs_hidden": false
        },
        "execution": {
          "iopub.status.busy": "2023-09-02T05:00:03.858557Z",
          "iopub.execute_input": "2023-09-02T05:00:03.85902Z",
          "iopub.status.idle": "2023-09-02T05:01:51.849673Z",
          "shell.execute_reply.started": "2023-09-02T05:00:03.858985Z",
          "shell.execute_reply": "2023-09-02T05:01:51.848275Z"
        },
        "trusted": true,
        "id": "IJSW1yM2Hdd_"
      },
      "execution_count": null,
      "outputs": []
    },
    {
      "cell_type": "markdown",
      "source": [
        "# Exploratory Data Analysis"
      ],
      "metadata": {
        "id": "AX_tm-KPHdeA"
      }
    },
    {
      "cell_type": "code",
      "source": [
        "df.describe()"
      ],
      "metadata": {
        "_uuid": "7cc33782-f87c-4016-a02c-6627ea688048",
        "_cell_guid": "81ea18b3-d98c-4e5e-8088-36f53948de8d",
        "jupyter": {
          "outputs_hidden": false
        },
        "execution": {
          "iopub.status.busy": "2023-09-02T05:01:51.851248Z",
          "iopub.execute_input": "2023-09-02T05:01:51.852002Z",
          "iopub.status.idle": "2023-09-02T05:01:51.88436Z",
          "shell.execute_reply.started": "2023-09-02T05:01:51.851968Z",
          "shell.execute_reply": "2023-09-02T05:01:51.882955Z"
        },
        "trusted": true,
        "id": "iingIwsHHdeA",
        "colab": {
          "base_uri": "https://localhost:8080/",
          "height": 300
        },
        "outputId": "8f792bdc-0ac3-44db-b55c-90d15867077f"
      },
      "execution_count": null,
      "outputs": [
        {
          "output_type": "execute_result",
          "data": {
            "text/plain": [
              "             Outcome\n",
              "count  245760.000000\n",
              "mean        0.133333\n",
              "std         0.339935\n",
              "min         0.000000\n",
              "25%         0.000000\n",
              "50%         0.000000\n",
              "75%         0.000000\n",
              "max         1.000000"
            ],
            "text/html": [
              "\n",
              "  <div id=\"df-193bec0b-30fc-4c96-bb87-93a02c9f79f1\" class=\"colab-df-container\">\n",
              "    <div>\n",
              "<style scoped>\n",
              "    .dataframe tbody tr th:only-of-type {\n",
              "        vertical-align: middle;\n",
              "    }\n",
              "\n",
              "    .dataframe tbody tr th {\n",
              "        vertical-align: top;\n",
              "    }\n",
              "\n",
              "    .dataframe thead th {\n",
              "        text-align: right;\n",
              "    }\n",
              "</style>\n",
              "<table border=\"1\" class=\"dataframe\">\n",
              "  <thead>\n",
              "    <tr style=\"text-align: right;\">\n",
              "      <th></th>\n",
              "      <th>Outcome</th>\n",
              "    </tr>\n",
              "  </thead>\n",
              "  <tbody>\n",
              "    <tr>\n",
              "      <th>count</th>\n",
              "      <td>245760.000000</td>\n",
              "    </tr>\n",
              "    <tr>\n",
              "      <th>mean</th>\n",
              "      <td>0.133333</td>\n",
              "    </tr>\n",
              "    <tr>\n",
              "      <th>std</th>\n",
              "      <td>0.339935</td>\n",
              "    </tr>\n",
              "    <tr>\n",
              "      <th>min</th>\n",
              "      <td>0.000000</td>\n",
              "    </tr>\n",
              "    <tr>\n",
              "      <th>25%</th>\n",
              "      <td>0.000000</td>\n",
              "    </tr>\n",
              "    <tr>\n",
              "      <th>50%</th>\n",
              "      <td>0.000000</td>\n",
              "    </tr>\n",
              "    <tr>\n",
              "      <th>75%</th>\n",
              "      <td>0.000000</td>\n",
              "    </tr>\n",
              "    <tr>\n",
              "      <th>max</th>\n",
              "      <td>1.000000</td>\n",
              "    </tr>\n",
              "  </tbody>\n",
              "</table>\n",
              "</div>\n",
              "    <div class=\"colab-df-buttons\">\n",
              "\n",
              "  <div class=\"colab-df-container\">\n",
              "    <button class=\"colab-df-convert\" onclick=\"convertToInteractive('df-193bec0b-30fc-4c96-bb87-93a02c9f79f1')\"\n",
              "            title=\"Convert this dataframe to an interactive table.\"\n",
              "            style=\"display:none;\">\n",
              "\n",
              "  <svg xmlns=\"http://www.w3.org/2000/svg\" height=\"24px\" viewBox=\"0 -960 960 960\">\n",
              "    <path d=\"M120-120v-720h720v720H120Zm60-500h600v-160H180v160Zm220 220h160v-160H400v160Zm0 220h160v-160H400v160ZM180-400h160v-160H180v160Zm440 0h160v-160H620v160ZM180-180h160v-160H180v160Zm440 0h160v-160H620v160Z\"/>\n",
              "  </svg>\n",
              "    </button>\n",
              "\n",
              "  <style>\n",
              "    .colab-df-container {\n",
              "      display:flex;\n",
              "      gap: 12px;\n",
              "    }\n",
              "\n",
              "    .colab-df-convert {\n",
              "      background-color: #E8F0FE;\n",
              "      border: none;\n",
              "      border-radius: 50%;\n",
              "      cursor: pointer;\n",
              "      display: none;\n",
              "      fill: #1967D2;\n",
              "      height: 32px;\n",
              "      padding: 0 0 0 0;\n",
              "      width: 32px;\n",
              "    }\n",
              "\n",
              "    .colab-df-convert:hover {\n",
              "      background-color: #E2EBFA;\n",
              "      box-shadow: 0px 1px 2px rgba(60, 64, 67, 0.3), 0px 1px 3px 1px rgba(60, 64, 67, 0.15);\n",
              "      fill: #174EA6;\n",
              "    }\n",
              "\n",
              "    .colab-df-buttons div {\n",
              "      margin-bottom: 4px;\n",
              "    }\n",
              "\n",
              "    [theme=dark] .colab-df-convert {\n",
              "      background-color: #3B4455;\n",
              "      fill: #D2E3FC;\n",
              "    }\n",
              "\n",
              "    [theme=dark] .colab-df-convert:hover {\n",
              "      background-color: #434B5C;\n",
              "      box-shadow: 0px 1px 3px 1px rgba(0, 0, 0, 0.15);\n",
              "      filter: drop-shadow(0px 1px 2px rgba(0, 0, 0, 0.3));\n",
              "      fill: #FFFFFF;\n",
              "    }\n",
              "  </style>\n",
              "\n",
              "    <script>\n",
              "      const buttonEl =\n",
              "        document.querySelector('#df-193bec0b-30fc-4c96-bb87-93a02c9f79f1 button.colab-df-convert');\n",
              "      buttonEl.style.display =\n",
              "        google.colab.kernel.accessAllowed ? 'block' : 'none';\n",
              "\n",
              "      async function convertToInteractive(key) {\n",
              "        const element = document.querySelector('#df-193bec0b-30fc-4c96-bb87-93a02c9f79f1');\n",
              "        const dataTable =\n",
              "          await google.colab.kernel.invokeFunction('convertToInteractive',\n",
              "                                                    [key], {});\n",
              "        if (!dataTable) return;\n",
              "\n",
              "        const docLinkHtml = 'Like what you see? Visit the ' +\n",
              "          '<a target=\"_blank\" href=https://colab.research.google.com/notebooks/data_table.ipynb>data table notebook</a>'\n",
              "          + ' to learn more about interactive tables.';\n",
              "        element.innerHTML = '';\n",
              "        dataTable['output_type'] = 'display_data';\n",
              "        await google.colab.output.renderOutput(dataTable, element);\n",
              "        const docLink = document.createElement('div');\n",
              "        docLink.innerHTML = docLinkHtml;\n",
              "        element.appendChild(docLink);\n",
              "      }\n",
              "    </script>\n",
              "  </div>\n",
              "\n",
              "\n",
              "<div id=\"df-25bc3499-af14-4b7c-899c-63c2980ec44e\">\n",
              "  <button class=\"colab-df-quickchart\" onclick=\"quickchart('df-25bc3499-af14-4b7c-899c-63c2980ec44e')\"\n",
              "            title=\"Suggest charts\"\n",
              "            style=\"display:none;\">\n",
              "\n",
              "<svg xmlns=\"http://www.w3.org/2000/svg\" height=\"24px\"viewBox=\"0 0 24 24\"\n",
              "     width=\"24px\">\n",
              "    <g>\n",
              "        <path d=\"M19 3H5c-1.1 0-2 .9-2 2v14c0 1.1.9 2 2 2h14c1.1 0 2-.9 2-2V5c0-1.1-.9-2-2-2zM9 17H7v-7h2v7zm4 0h-2V7h2v10zm4 0h-2v-4h2v4z\"/>\n",
              "    </g>\n",
              "</svg>\n",
              "  </button>\n",
              "\n",
              "<style>\n",
              "  .colab-df-quickchart {\n",
              "      --bg-color: #E8F0FE;\n",
              "      --fill-color: #1967D2;\n",
              "      --hover-bg-color: #E2EBFA;\n",
              "      --hover-fill-color: #174EA6;\n",
              "      --disabled-fill-color: #AAA;\n",
              "      --disabled-bg-color: #DDD;\n",
              "  }\n",
              "\n",
              "  [theme=dark] .colab-df-quickchart {\n",
              "      --bg-color: #3B4455;\n",
              "      --fill-color: #D2E3FC;\n",
              "      --hover-bg-color: #434B5C;\n",
              "      --hover-fill-color: #FFFFFF;\n",
              "      --disabled-bg-color: #3B4455;\n",
              "      --disabled-fill-color: #666;\n",
              "  }\n",
              "\n",
              "  .colab-df-quickchart {\n",
              "    background-color: var(--bg-color);\n",
              "    border: none;\n",
              "    border-radius: 50%;\n",
              "    cursor: pointer;\n",
              "    display: none;\n",
              "    fill: var(--fill-color);\n",
              "    height: 32px;\n",
              "    padding: 0;\n",
              "    width: 32px;\n",
              "  }\n",
              "\n",
              "  .colab-df-quickchart:hover {\n",
              "    background-color: var(--hover-bg-color);\n",
              "    box-shadow: 0 1px 2px rgba(60, 64, 67, 0.3), 0 1px 3px 1px rgba(60, 64, 67, 0.15);\n",
              "    fill: var(--button-hover-fill-color);\n",
              "  }\n",
              "\n",
              "  .colab-df-quickchart-complete:disabled,\n",
              "  .colab-df-quickchart-complete:disabled:hover {\n",
              "    background-color: var(--disabled-bg-color);\n",
              "    fill: var(--disabled-fill-color);\n",
              "    box-shadow: none;\n",
              "  }\n",
              "\n",
              "  .colab-df-spinner {\n",
              "    border: 2px solid var(--fill-color);\n",
              "    border-color: transparent;\n",
              "    border-bottom-color: var(--fill-color);\n",
              "    animation:\n",
              "      spin 1s steps(1) infinite;\n",
              "  }\n",
              "\n",
              "  @keyframes spin {\n",
              "    0% {\n",
              "      border-color: transparent;\n",
              "      border-bottom-color: var(--fill-color);\n",
              "      border-left-color: var(--fill-color);\n",
              "    }\n",
              "    20% {\n",
              "      border-color: transparent;\n",
              "      border-left-color: var(--fill-color);\n",
              "      border-top-color: var(--fill-color);\n",
              "    }\n",
              "    30% {\n",
              "      border-color: transparent;\n",
              "      border-left-color: var(--fill-color);\n",
              "      border-top-color: var(--fill-color);\n",
              "      border-right-color: var(--fill-color);\n",
              "    }\n",
              "    40% {\n",
              "      border-color: transparent;\n",
              "      border-right-color: var(--fill-color);\n",
              "      border-top-color: var(--fill-color);\n",
              "    }\n",
              "    60% {\n",
              "      border-color: transparent;\n",
              "      border-right-color: var(--fill-color);\n",
              "    }\n",
              "    80% {\n",
              "      border-color: transparent;\n",
              "      border-right-color: var(--fill-color);\n",
              "      border-bottom-color: var(--fill-color);\n",
              "    }\n",
              "    90% {\n",
              "      border-color: transparent;\n",
              "      border-bottom-color: var(--fill-color);\n",
              "    }\n",
              "  }\n",
              "</style>\n",
              "\n",
              "  <script>\n",
              "    async function quickchart(key) {\n",
              "      const quickchartButtonEl =\n",
              "        document.querySelector('#' + key + ' button');\n",
              "      quickchartButtonEl.disabled = true;  // To prevent multiple clicks.\n",
              "      quickchartButtonEl.classList.add('colab-df-spinner');\n",
              "      try {\n",
              "        const charts = await google.colab.kernel.invokeFunction(\n",
              "            'suggestCharts', [key], {});\n",
              "      } catch (error) {\n",
              "        console.error('Error during call to suggestCharts:', error);\n",
              "      }\n",
              "      quickchartButtonEl.classList.remove('colab-df-spinner');\n",
              "      quickchartButtonEl.classList.add('colab-df-quickchart-complete');\n",
              "    }\n",
              "    (() => {\n",
              "      let quickchartButtonEl =\n",
              "        document.querySelector('#df-25bc3499-af14-4b7c-899c-63c2980ec44e button');\n",
              "      quickchartButtonEl.style.display =\n",
              "        google.colab.kernel.accessAllowed ? 'block' : 'none';\n",
              "    })();\n",
              "  </script>\n",
              "</div>\n",
              "\n",
              "    </div>\n",
              "  </div>\n"
            ],
            "application/vnd.google.colaboratory.intrinsic+json": {
              "type": "dataframe",
              "summary": "{\n  \"name\": \"df\",\n  \"rows\": 8,\n  \"fields\": [\n    {\n      \"column\": \"Outcome\",\n      \"properties\": {\n        \"dtype\": \"number\",\n        \"std\": 86889.2068615755,\n        \"min\": 0.0,\n        \"max\": 245760.0,\n        \"num_unique_values\": 5,\n        \"samples\": [\n          0.13333333333333333,\n          1.0,\n          0.33993532584041347\n        ],\n        \"semantic_type\": \"\",\n        \"description\": \"\"\n      }\n    }\n  ]\n}"
            }
          },
          "metadata": {},
          "execution_count": 4
        }
      ]
    },
    {
      "cell_type": "code",
      "source": [
        "df.info()"
      ],
      "metadata": {
        "_uuid": "bce6a425-e5f1-41a6-b361-d7d74bf8d039",
        "_cell_guid": "3ad1ea5d-ccb5-4d6e-aa3e-a5e21e88a9d3",
        "jupyter": {
          "outputs_hidden": false
        },
        "execution": {
          "iopub.status.busy": "2023-09-02T05:01:51.888487Z",
          "iopub.execute_input": "2023-09-02T05:01:51.889023Z",
          "iopub.status.idle": "2023-09-02T05:01:52.773105Z",
          "shell.execute_reply.started": "2023-09-02T05:01:51.888977Z",
          "shell.execute_reply": "2023-09-02T05:01:52.771575Z"
        },
        "trusted": true,
        "id": "WrNRGm9tHdeA",
        "colab": {
          "base_uri": "https://localhost:8080/"
        },
        "outputId": "ff40dbc7-a652-4705-b2dc-f9f894cd3ba0"
      },
      "execution_count": null,
      "outputs": [
        {
          "output_type": "stream",
          "name": "stdout",
          "text": [
            "<class 'pandas.core.frame.DataFrame'>\n",
            "RangeIndex: 245760 entries, 0 to 245759\n",
            "Data columns (total 12 columns):\n",
            " #   Column                   Non-Null Count   Dtype \n",
            "---  ------                   --------------   ----- \n",
            " 0   Name                     245760 non-null  object\n",
            " 1   Education Qualification  245760 non-null  object\n",
            " 2   Gender                   245760 non-null  object\n",
            " 3   Community                245760 non-null  object\n",
            " 4   Religion                 245760 non-null  object\n",
            " 5   Exservice-men            245760 non-null  object\n",
            " 6   Disability               245760 non-null  object\n",
            " 7   Sports                   245760 non-null  object\n",
            " 8   Annual-Percentage        245760 non-null  object\n",
            " 9   Income                   245760 non-null  object\n",
            " 10  India                    245760 non-null  object\n",
            " 11  Outcome                  245760 non-null  int64 \n",
            "dtypes: int64(1), object(11)\n",
            "memory usage: 22.5+ MB\n"
          ]
        }
      ]
    },
    {
      "cell_type": "code",
      "source": [
        "print(\"This is preliminary analysis for no of applicants not no of scholars\")\n",
        "for col in df.columns:\n",
        "    print( df[col].value_counts() )\n",
        "    print(\"-\"*100)"
      ],
      "metadata": {
        "_uuid": "67eddf44-fd6b-43f4-9a6b-25f905cfa590",
        "_cell_guid": "d63b7e3e-9318-4771-806e-6de0ad2419cc",
        "jupyter": {
          "outputs_hidden": false
        },
        "execution": {
          "iopub.status.busy": "2023-09-02T05:01:52.785006Z",
          "iopub.execute_input": "2023-09-02T05:01:52.785317Z",
          "iopub.status.idle": "2023-09-02T05:01:53.166454Z",
          "shell.execute_reply.started": "2023-09-02T05:01:52.78529Z",
          "shell.execute_reply": "2023-09-02T05:01:53.165023Z"
        },
        "trusted": true,
        "id": "hJD9XnSIHdeB",
        "colab": {
          "base_uri": "https://localhost:8080/"
        },
        "outputId": "e3d6ba9a-fcbc-41d1-ee4b-8c79d477a5dd"
      },
      "execution_count": null,
      "outputs": [
        {
          "output_type": "stream",
          "name": "stdout",
          "text": [
            "This is preliminary analysis for no of applicants not no of scholars\n",
            "Name\n",
            "INSPIRE Scholarship 2022-23 ? Scholarship for Higher Education (SHE)                 24576\n",
            "Abdul Kalam Technology Innovation National Fellowship                                24576\n",
            "AAI Sports Scholarship Scheme in India 2022-23                                       24576\n",
            "Glow and lovely Career Foundation Scholarship                                        24576\n",
            "National Fellowship for Persons with Disabilities                                    24576\n",
            "ONGC Sports Scholarship Scheme 2022-23                                               24576\n",
            "Pragati Scholarship ? AICTE-Scholarship Scheme to Girl Child                         24576\n",
            "Dr. Ambedkar post matric Scholarship                                                 24576\n",
            "Indira Gandhi Scholarship for Single Girl Child UGC Scholarship for PG Programmes    24576\n",
            "National Overseas Scholarship Scheme 2021-22                                         24576\n",
            "Name: count, dtype: int64\n",
            "----------------------------------------------------------------------------------------------------\n",
            "Education Qualification\n",
            "Undergraduate    81920\n",
            "Postgraduate     81920\n",
            "Doctrate         81920\n",
            "Name: count, dtype: int64\n",
            "----------------------------------------------------------------------------------------------------\n",
            "Gender\n",
            "Male      122880\n",
            "Female    122880\n",
            "Name: count, dtype: int64\n",
            "----------------------------------------------------------------------------------------------------\n",
            "Community\n",
            "General     61440\n",
            "OBC         61440\n",
            "SC/ST       61440\n",
            "Minority    61440\n",
            "Name: count, dtype: int64\n",
            "----------------------------------------------------------------------------------------------------\n",
            "Religion\n",
            "Hindu        61440\n",
            "Muslim       61440\n",
            "Chirstian    61440\n",
            "Others       61440\n",
            "Name: count, dtype: int64\n",
            "----------------------------------------------------------------------------------------------------\n",
            "Exservice-men\n",
            "Yes    122880\n",
            "No     122880\n",
            "Name: count, dtype: int64\n",
            "----------------------------------------------------------------------------------------------------\n",
            "Disability\n",
            "Yes    122880\n",
            "No     122880\n",
            "Name: count, dtype: int64\n",
            "----------------------------------------------------------------------------------------------------\n",
            "Sports\n",
            "Yes    122880\n",
            "No     122880\n",
            "Name: count, dtype: int64\n",
            "----------------------------------------------------------------------------------------------------\n",
            "Annual-Percentage\n",
            "90-100    61440\n",
            "80-90     61440\n",
            "70-80     61440\n",
            "60-70     61440\n",
            "Name: count, dtype: int64\n",
            "----------------------------------------------------------------------------------------------------\n",
            "Income\n",
            "Upto 1.5L     61440\n",
            "1.5L to 3L    61440\n",
            "3L to 6L      61440\n",
            "Above 6L      61440\n",
            "Name: count, dtype: int64\n",
            "----------------------------------------------------------------------------------------------------\n",
            "India\n",
            "In     122880\n",
            "Out    122880\n",
            "Name: count, dtype: int64\n",
            "----------------------------------------------------------------------------------------------------\n",
            "Outcome\n",
            "0    212992\n",
            "1     32768\n",
            "Name: count, dtype: int64\n",
            "----------------------------------------------------------------------------------------------------\n"
          ]
        }
      ]
    },
    {
      "cell_type": "markdown",
      "source": [
        "## Key Takeaway Points\n",
        "* Data is clean, we don't have any missing values.\n",
        "* All the feature columns are categorical in nature.\n",
        "* All the feature columns are equally distributed among categories.\n",
        "* Ordinal Features: Education Qualification, Annual-Percentage, Income\n",
        "* Nominal Features: Name, Gender, Community, Religion, Exservice-men, Disability, Sports, India"
      ],
      "metadata": {
        "id": "-4wBnsLdHdeB"
      }
    },
    {
      "cell_type": "code",
      "source": [
        "def get_graph_data(df, feature_col):\n",
        "\n",
        "    df_0 = df[ df[\"Outcome\"]==0 ][[feature_col,\"Outcome\"]].groupby(feature_col).count()\n",
        "    df_0 = df_0.reset_index()\n",
        "\n",
        "    df_1 = df[ df[\"Outcome\"]==1 ][[feature_col,\"Outcome\"]].groupby(feature_col).count()\n",
        "    df_1 = df_1.reset_index()\n",
        "\n",
        "    df = pd.DataFrame()\n",
        "    df[feature_col] = df_0[feature_col]\n",
        "\n",
        "    df[\"Outcome=0\"] = df_0[\"Outcome\"]\n",
        "    df[\"Outcome=1\"] = df_1[\"Outcome\"]\n",
        "\n",
        "    df[\"Outcome_Total\"] = df[\"Outcome=0\"] + df[\"Outcome=1\"]\n",
        "    df[\"Outcome=0 %\"] = ( df[\"Outcome=0\"] / df[\"Outcome_Total\"] ) * 100\n",
        "    df[\"Outcome=1 %\"] = ( df[\"Outcome=1\"] / df[\"Outcome_Total\"] ) * 100\n",
        "\n",
        "    return df"
      ],
      "metadata": {
        "_uuid": "02ae3428-1a69-4a7b-a9dc-fe565b343fbb",
        "_cell_guid": "e1d8b3d6-ea85-4b94-8ec6-25bd0dad13b6",
        "jupyter": {
          "outputs_hidden": false
        },
        "execution": {
          "iopub.status.busy": "2023-09-02T05:01:53.167803Z",
          "iopub.execute_input": "2023-09-02T05:01:53.168148Z",
          "iopub.status.idle": "2023-09-02T05:01:53.176738Z",
          "shell.execute_reply.started": "2023-09-02T05:01:53.16812Z",
          "shell.execute_reply": "2023-09-02T05:01:53.175884Z"
        },
        "trusted": true,
        "id": "Jkm2SIpSHdeB"
      },
      "execution_count": null,
      "outputs": []
    },
    {
      "cell_type": "markdown",
      "source": [
        "## Relationship between Scholarship Program Name & Scholarship\n",
        "##### > Abdul Kalam Technology Innovation National Fellowship has provided more scholarships compared to others."
      ],
      "metadata": {
        "id": "QrMTxz83HdeB"
      }
    },
    {
      "cell_type": "code",
      "source": [
        "df_name = get_graph_data(df, \"Name\")\n",
        "df_name[\"Name_fmt\"] = df_name[\"Name\"].apply(lambda x: x[0:10] + \"...\")\n",
        "ax = sns.barplot(data=df_name, x=\"Name_fmt\", y=\"Outcome=1 %\",palette=\"rocket\")\n",
        "plt.xticks(rotation = 45, ha = 'right')\n",
        "plt.xlabel(\"Scholarship Program Name\")\n",
        "plt.ylabel(\"% of Scholarships Approved\")\n",
        "plt.show()"
      ],
      "metadata": {
        "execution": {
          "iopub.status.busy": "2023-09-02T05:01:53.177667Z",
          "iopub.execute_input": "2023-09-02T05:01:53.177973Z",
          "iopub.status.idle": "2023-09-02T05:01:53.674455Z",
          "shell.execute_reply.started": "2023-09-02T05:01:53.177946Z",
          "shell.execute_reply": "2023-09-02T05:01:53.67315Z"
        },
        "trusted": true,
        "id": "0BVKmDQ1HdeB",
        "colab": {
          "base_uri": "https://localhost:8080/",
          "height": 606
        },
        "outputId": "61b4141a-7a50-41f7-b9f0-dd3df204aa16"
      },
      "execution_count": null,
      "outputs": [
        {
          "output_type": "stream",
          "name": "stderr",
          "text": [
            "<ipython-input-9-16be6b86091c>:3: FutureWarning: \n",
            "\n",
            "Passing `palette` without assigning `hue` is deprecated and will be removed in v0.14.0. Assign the `x` variable to `hue` and set `legend=False` for the same effect.\n",
            "\n",
            "  ax = sns.barplot(data=df_name, x=\"Name_fmt\", y=\"Outcome=1 %\",palette=\"rocket\")\n"
          ]
        },
        {
          "output_type": "display_data",
          "data": {
            "text/plain": [
              "<Figure size 640x480 with 1 Axes>"
            ],
            "image/png": "[encoded data removed]"
          },
          "metadata": {}
        }
      ]
    },
    {
      "cell_type": "markdown",
      "source": [
        "## Relationship between Education Qualification & Scholarship\n",
        "##### > Postgradtuates have got more scholarships compared to undergraduates and doctrates."
      ],
      "metadata": {
        "_uuid": "be3cbe50-bb11-480b-bd66-57158672f333",
        "_cell_guid": "b382646c-8dcb-4ca7-88f6-60f5ae5cf474",
        "trusted": true,
        "id": "_AzV7NmTHdeB"
      }
    },
    {
      "cell_type": "code",
      "source": [
        "df_education = get_graph_data(df, \"Education Qualification\")\n",
        "ax = sns.barplot(data=df_education, x=\"Education Qualification\", y=\"Outcome=1 %\")\n",
        "plt.xlabel(\"Education Qualification\")\n",
        "plt.ylabel(\"% of Scholarships Approved\")\n",
        "plt.show()"
      ],
      "metadata": {
        "_uuid": "44afb77c-2c70-4eea-887d-13fc1e479b10",
        "_cell_guid": "5c9c2e14-aedc-4a3a-a809-d589781b068a",
        "jupyter": {
          "outputs_hidden": false
        },
        "execution": {
          "iopub.status.busy": "2023-09-02T05:01:53.676407Z",
          "iopub.execute_input": "2023-09-02T05:01:53.67715Z",
          "iopub.status.idle": "2023-09-02T05:01:54.030931Z",
          "shell.execute_reply.started": "2023-09-02T05:01:53.677107Z",
          "shell.execute_reply": "2023-09-02T05:01:54.029598Z"
        },
        "trusted": true,
        "id": "37lJx3rDHdeB",
        "colab": {
          "base_uri": "https://localhost:8080/",
          "height": 449
        },
        "outputId": "85a75103-6ecc-4735-d781-da193531a1cd"
      },
      "execution_count": null,
      "outputs": [
        {
          "output_type": "display_data",
          "data": {
            "text/plain": [
              "<Figure size 640x480 with 1 Axes>"
            ],
            "image/png": "[encoded data removed]"
          },
          "metadata": {}
        }
      ]
    },
    {
      "cell_type": "markdown",
      "source": [
        "## Relationship between Gender & Scholarship\n",
        "##### > Females have got more scholarships compared to males."
      ],
      "metadata": {
        "_uuid": "1eddada3-0136-4927-b0c5-f6782acccac2",
        "_cell_guid": "b0f2bca6-874d-4cdf-8307-e69b57f9fae5",
        "trusted": true,
        "id": "IGZGVcsqHdeB"
      }
    },
    {
      "cell_type": "code",
      "source": [
        "df_gender = get_graph_data(df, \"Gender\")\n",
        "ax = sns.barplot(data=df_gender, x=\"Gender\", y=\"Outcome=1 %\")\n",
        "ax.bar_label(ax.containers[0])\n",
        "plt.xlabel(\"Gender\")\n",
        "plt.ylabel(\"% of Scholarships Approved\")\n",
        "plt.show()"
      ],
      "metadata": {
        "_uuid": "43280584-3f7e-4de3-bb31-7fff57d0ebe3",
        "_cell_guid": "c60ae70a-c3a6-4e97-a045-6f18bb37b862",
        "jupyter": {
          "outputs_hidden": false
        },
        "execution": {
          "iopub.status.busy": "2023-09-02T05:01:54.035854Z",
          "iopub.execute_input": "2023-09-02T05:01:54.036276Z",
          "iopub.status.idle": "2023-09-02T05:01:54.36087Z",
          "shell.execute_reply.started": "2023-09-02T05:01:54.036235Z",
          "shell.execute_reply": "2023-09-02T05:01:54.35955Z"
        },
        "trusted": true,
        "id": "e0R2d-tmHdeB",
        "colab": {
          "base_uri": "https://localhost:8080/",
          "height": 449
        },
        "outputId": "af88a730-ffa5-4353-db10-e5e87e013eec"
      },
      "execution_count": null,
      "outputs": [
        {
          "output_type": "display_data",
          "data": {
            "text/plain": [
              "<Figure size 640x480 with 1 Axes>"
            ],
            "image/png": "[encoded data removed]"
          },
          "metadata": {}
        }
      ]
    },
    {
      "cell_type": "markdown",
      "source": [
        "## Relationship between Community & Scholarship\n",
        "##### > SC/ST and Minority have got more scholarships compared to others."
      ],
      "metadata": {
        "id": "bt_v-m8AHdeB"
      }
    },
    {
      "cell_type": "code",
      "source": [
        "df_community = get_graph_data(df, \"Community\")\n",
        "df_community\n",
        "ax = sns.barplot(data=df_community, x=\"Community\", y=\"Outcome=1 %\")\n",
        "ax.bar_label(ax.containers[0])\n",
        "plt.xlabel(\"Community\")\n",
        "plt.ylabel(\"% of Scholarships Approved\")\n",
        "plt.show()"
      ],
      "metadata": {
        "_uuid": "91ad3cec-5d7c-4258-a489-328ad4e695ad",
        "_cell_guid": "1ab16054-c012-4e6c-b76a-dea32a98c411",
        "jupyter": {
          "outputs_hidden": false
        },
        "execution": {
          "iopub.status.busy": "2023-09-02T05:01:54.362405Z",
          "iopub.execute_input": "2023-09-02T05:01:54.362767Z",
          "iopub.status.idle": "2023-09-02T05:01:54.700174Z",
          "shell.execute_reply.started": "2023-09-02T05:01:54.362736Z",
          "shell.execute_reply": "2023-09-02T05:01:54.698454Z"
        },
        "trusted": true,
        "id": "deGbPlvYHdeB",
        "colab": {
          "base_uri": "https://localhost:8080/",
          "height": 449
        },
        "outputId": "6875e23a-3742-403a-e766-a54915f26690"
      },
      "execution_count": null,
      "outputs": [
        {
          "output_type": "display_data",
          "data": {
            "text/plain": [
              "<Figure size 640x480 with 1 Axes>"
            ],
            "image/png": "[encoded data removed]"
          },
          "metadata": {}
        }
      ]
    },
    {
      "cell_type": "markdown",
      "source": [
        "## Relationship between Religion & Scholarship\n",
        "##### > Scholarships have been equally distributed among all religion students."
      ],
      "metadata": {
        "id": "LNxzd8xWHdeB"
      }
    },
    {
      "cell_type": "code",
      "source": [
        "df_community = get_graph_data(df, \"Religion\")\n",
        "ax = sns.barplot(data=df_community, x=\"Religion\", y=\"Outcome=1 %\")\n",
        "ax.bar_label(ax.containers[0])\n",
        "plt.xlabel(\"Religion\")\n",
        "plt.ylabel(\"% of Scholarships Approved\")\n",
        "plt.show()"
      ],
      "metadata": {
        "_uuid": "ea21e176-f078-40c3-b031-15c417ad7fce",
        "_cell_guid": "d5c658a0-2db6-4092-924e-48ad6b36c422",
        "jupyter": {
          "outputs_hidden": false
        },
        "execution": {
          "iopub.status.busy": "2023-09-02T05:01:54.702282Z",
          "iopub.execute_input": "2023-09-02T05:01:54.702771Z",
          "iopub.status.idle": "2023-09-02T05:01:55.075119Z",
          "shell.execute_reply.started": "2023-09-02T05:01:54.702728Z",
          "shell.execute_reply": "2023-09-02T05:01:55.073613Z"
        },
        "trusted": true,
        "id": "UL6KPiaHHdeB",
        "colab": {
          "base_uri": "https://localhost:8080/",
          "height": 455
        },
        "outputId": "b867fa7d-8387-4d16-a1f6-cb81cc30c5eb"
      },
      "execution_count": null,
      "outputs": [
        {
          "output_type": "display_data",
          "data": {
            "text/plain": [
              "<Figure size 640x480 with 1 Axes>"
            ],
            "image/png": "[encoded data removed]"
          },
          "metadata": {}
        }
      ]
    },
    {
      "cell_type": "markdown",
      "source": [
        "## Relationship between Exservice-man & Scholarship\n",
        "##### > Scholarships given are equally distributed irrespective of exservice-man or not."
      ],
      "metadata": {
        "id": "kTABSX5cHdeB"
      }
    },
    {
      "cell_type": "code",
      "source": [
        "df_community = get_graph_data(df, \"Exservice-men\")\n",
        "ax = sns.barplot(data=df_community, x=\"Exservice-men\", y=\"Outcome=1 %\")\n",
        "ax.bar_label(ax.containers[0])\n",
        "plt.xlabel(\"Is Exservice man?\")\n",
        "plt.ylabel(\"% of Scholarships Approved\")\n",
        "plt.show()"
      ],
      "metadata": {
        "_uuid": "ef15fbb2-c17e-4801-8cbe-51464cb9a8e0",
        "_cell_guid": "cdafa7df-3698-4b20-886b-d6d1a02c0006",
        "jupyter": {
          "outputs_hidden": false
        },
        "execution": {
          "iopub.status.busy": "2023-09-02T05:01:55.076704Z",
          "iopub.execute_input": "2023-09-02T05:01:55.077052Z",
          "iopub.status.idle": "2023-09-02T05:01:55.399446Z",
          "shell.execute_reply.started": "2023-09-02T05:01:55.077022Z",
          "shell.execute_reply": "2023-09-02T05:01:55.398152Z"
        },
        "trusted": true,
        "id": "8lJ_fkxgHdeB",
        "colab": {
          "base_uri": "https://localhost:8080/",
          "height": 455
        },
        "outputId": "5aceb2b8-c530-4a60-ffbd-411b32571410"
      },
      "execution_count": null,
      "outputs": [
        {
          "output_type": "display_data",
          "data": {
            "text/plain": [
              "<Figure size 640x480 with 1 Axes>"
            ],
            "image/png": "[encoded data removed]"
          },
          "metadata": {}
        }
      ]
    },
    {
      "cell_type": "markdown",
      "source": [
        "## Relationship between Disability & Scholarship\n",
        "##### > Disabled students got more scholarships compared to not-disabled."
      ],
      "metadata": {
        "id": "TOVSOy5SHdeC"
      }
    },
    {
      "cell_type": "code",
      "source": [
        "df_community = get_graph_data(df, \"Disability\")\n",
        "ax = sns.barplot(data=df_community, x=\"Disability\", y=\"Outcome=1 %\")\n",
        "ax.bar_label(ax.containers[0])\n",
        "plt.xlabel(\"Is Disabled?\")\n",
        "plt.ylabel(\"% of Scholarships Approved\")\n",
        "plt.show()"
      ],
      "metadata": {
        "_uuid": "67065a47-4ffb-4b26-ab41-37ae0b114c22",
        "_cell_guid": "166f3682-ccb4-4795-9d4d-4d9d0f036d4e",
        "jupyter": {
          "outputs_hidden": false
        },
        "execution": {
          "iopub.status.busy": "2023-09-02T05:01:55.401263Z",
          "iopub.execute_input": "2023-09-02T05:01:55.401671Z",
          "iopub.status.idle": "2023-09-02T05:01:55.72794Z",
          "shell.execute_reply.started": "2023-09-02T05:01:55.401639Z",
          "shell.execute_reply": "2023-09-02T05:01:55.726607Z"
        },
        "trusted": true,
        "id": "UBmnZsn2HdeC",
        "colab": {
          "base_uri": "https://localhost:8080/",
          "height": 449
        },
        "outputId": "f74fbf4e-2a49-4b9b-ef4b-99c8d5d14966"
      },
      "execution_count": null,
      "outputs": [
        {
          "output_type": "display_data",
          "data": {
            "text/plain": [
              "<Figure size 640x480 with 1 Axes>"
            ],
            "image/png": "[encoded data removed]"
          },
          "metadata": {}
        }
      ]
    },
    {
      "cell_type": "markdown",
      "source": [
        "## Relationship between Sports & Scholarship\n",
        "##### > Student's active in sports got more scholarship compared to others."
      ],
      "metadata": {
        "id": "GNIa2Wz3HdeC"
      }
    },
    {
      "cell_type": "code",
      "source": [
        "df_community = get_graph_data(df, \"Sports\")\n",
        "ax = sns.barplot(data=df_community, x=\"Sports\", y=\"Outcome=1 %\")\n",
        "ax.bar_label(ax.containers[0])\n",
        "plt.xlabel(\"Sports Quota?\")\n",
        "plt.ylabel(\"% of Scholarships Approved\")\n",
        "plt.show()"
      ],
      "metadata": {
        "_uuid": "625fee4c-92a2-4575-a53d-e5670ca3ff58",
        "_cell_guid": "0a78e138-7ea1-4945-a792-a79a9285d6ce",
        "jupyter": {
          "outputs_hidden": false
        },
        "execution": {
          "iopub.status.busy": "2023-09-02T05:01:55.729761Z",
          "iopub.execute_input": "2023-09-02T05:01:55.73014Z",
          "iopub.status.idle": "2023-09-02T05:01:56.068411Z",
          "shell.execute_reply.started": "2023-09-02T05:01:55.730108Z",
          "shell.execute_reply": "2023-09-02T05:01:56.067119Z"
        },
        "trusted": true,
        "id": "3qQUwpInHdeC",
        "colab": {
          "base_uri": "https://localhost:8080/",
          "height": 449
        },
        "outputId": "d4d55620-0a4a-46ff-83e6-e07ba606ad96"
      },
      "execution_count": null,
      "outputs": [
        {
          "output_type": "display_data",
          "data": {
            "text/plain": [
              "<Figure size 640x480 with 1 Axes>"
            ],
            "image/png": "[encoded data removed]"
          },
          "metadata": {}
        }
      ]
    },
    {
      "cell_type": "markdown",
      "source": [
        "## Relationship between Annual Percentage & Scholarship\n",
        "##### > Students having 90+ percentage got more scholarship compared to others."
      ],
      "metadata": {
        "id": "s79jOlrVHdeC"
      }
    },
    {
      "cell_type": "code",
      "source": [
        "df_community = get_graph_data(df, \"Annual-Percentage\")\n",
        "df_community\n",
        "ax = sns.barplot(data=df_community, x=\"Annual-Percentage\", y=\"Outcome=1 %\")\n",
        "ax.bar_label(ax.containers[0])\n",
        "plt.xlabel(\"Annual Percentage\")\n",
        "plt.ylabel(\"% of Scholarships Approved\")\n",
        "plt.show()"
      ],
      "metadata": {
        "_uuid": "bc935ff7-4756-47b1-a5bd-cd920189a72b",
        "_cell_guid": "3e2fa3ba-541b-4406-afaa-d1a73007f03c",
        "jupyter": {
          "outputs_hidden": false
        },
        "execution": {
          "iopub.status.busy": "2023-09-02T05:01:56.070151Z",
          "iopub.execute_input": "2023-09-02T05:01:56.070651Z",
          "iopub.status.idle": "2023-09-02T05:01:56.431947Z",
          "shell.execute_reply.started": "2023-09-02T05:01:56.07061Z",
          "shell.execute_reply": "2023-09-02T05:01:56.4306Z"
        },
        "trusted": true,
        "id": "4WQOARPSHdeC",
        "colab": {
          "base_uri": "https://localhost:8080/",
          "height": 449
        },
        "outputId": "dfafc59c-6c71-43f8-f6b7-8b0655d94972"
      },
      "execution_count": null,
      "outputs": [
        {
          "output_type": "display_data",
          "data": {
            "text/plain": [
              "<Figure size 640x480 with 1 Axes>"
            ],
            "image/png": "[encoded data removed]"
          },
          "metadata": {}
        }
      ]
    },
    {
      "cell_type": "markdown",
      "source": [
        "## Relationship between Income & Scholarship\n",
        "##### > Those having income upto 1.5 lakhs got more scholarship compared to others."
      ],
      "metadata": {
        "_uuid": "877bfdb6-e56b-43bf-b984-e317810f5727",
        "_cell_guid": "2bf8d01f-a26c-41f9-8514-a8ff713103f0",
        "trusted": true,
        "id": "74tLy4JZHdeC"
      }
    },
    {
      "cell_type": "code",
      "source": [
        "df_community = get_graph_data(df, \"Income\")\n",
        "ax = sns.barplot(data=df_community, x=\"Income\", y=\"Outcome=1 %\")\n",
        "ax.bar_label(ax.containers[0])\n",
        "plt.xlabel(\"Income\")\n",
        "plt.ylabel(\"% of Scholarships Approved\")\n",
        "plt.show()"
      ],
      "metadata": {
        "_uuid": "bf2bbee7-11b4-4b0c-88a2-79667d702f08",
        "_cell_guid": "53080d6f-ccd2-408f-ada6-a01805281f7d",
        "jupyter": {
          "outputs_hidden": false
        },
        "execution": {
          "iopub.status.busy": "2023-09-02T05:01:56.433743Z",
          "iopub.execute_input": "2023-09-02T05:01:56.434446Z",
          "iopub.status.idle": "2023-09-02T05:01:56.815674Z",
          "shell.execute_reply.started": "2023-09-02T05:01:56.434402Z",
          "shell.execute_reply": "2023-09-02T05:01:56.814321Z"
        },
        "trusted": true,
        "id": "kFnX7gfFHdeC",
        "colab": {
          "base_uri": "https://localhost:8080/",
          "height": 449
        },
        "outputId": "29ee5e6d-3145-43c0-db96-e493847405b2"
      },
      "execution_count": null,
      "outputs": [
        {
          "output_type": "display_data",
          "data": {
            "text/plain": [
              "<Figure size 640x480 with 1 Axes>"
            ],
            "image/png": "[encoded data removed]"
          },
          "metadata": {}
        }
      ]
    },
    {
      "cell_type": "markdown",
      "source": [
        "## Relationship between Location & Scholarship\n",
        "##### > Students with location in India got more scholarship compared to outside India."
      ],
      "metadata": {
        "_uuid": "133520c6-bf07-4dae-9200-465f9e3eea5e",
        "_cell_guid": "d19a7246-38f5-4c98-a414-d828f05d1f96",
        "trusted": true,
        "id": "t6OhqT-dHdeC"
      }
    },
    {
      "cell_type": "code",
      "source": [
        "df_community = get_graph_data(df, \"India\")\n",
        "ax = sns.barplot(data=df_community, x=\"India\", y=\"Outcome=1 %\")\n",
        "ax.bar_label(ax.containers[0])\n",
        "plt.xlabel(\"Inside India?\")\n",
        "plt.ylabel(\"% of Scholarships Approved\")\n",
        "plt.show()"
      ],
      "metadata": {
        "_uuid": "30dbcfea-85c9-4a66-aba9-4d62cd6da473",
        "_cell_guid": "04d42e11-a43a-43c5-ae89-290c1ba92b67",
        "jupyter": {
          "outputs_hidden": false
        },
        "execution": {
          "iopub.status.busy": "2023-09-02T05:01:56.817508Z",
          "iopub.execute_input": "2023-09-02T05:01:56.818566Z",
          "iopub.status.idle": "2023-09-02T05:01:57.423023Z",
          "shell.execute_reply.started": "2023-09-02T05:01:56.81852Z",
          "shell.execute_reply": "2023-09-02T05:01:57.421599Z"
        },
        "trusted": true,
        "id": "YXcdcV4KHdeC",
        "colab": {
          "base_uri": "https://localhost:8080/",
          "height": 449
        },
        "outputId": "a2500a7e-74b6-428e-bd74-50a21f13652c"
      },
      "execution_count": null,
      "outputs": [
        {
          "output_type": "display_data",
          "data": {
            "text/plain": [
              "<Figure size 640x480 with 1 Axes>"
            ],
            "image/png": "[encoded data removed]"
          },
          "metadata": {}
        }
      ]
    },
    {
      "cell_type": "markdown",
      "source": [
        "# Cleaning Data"
      ],
      "metadata": {
        "id": "zB83P6kgHdeC"
      }
    },
    {
      "cell_type": "markdown",
      "source": [
        "* We will drop following attributes...\n",
        "1. Name = as we will focus to find general trend of getting scholarship\n",
        "2. Religion, Exservice-men = as data shows outcome is equaly distributed among categories\n"
      ],
      "metadata": {
        "id": "X79w2JqnHdeC"
      }
    },
    {
      "cell_type": "code",
      "source": [
        "df = df.drop([\"Name\", \"Religion\", \"Exservice-men\"], axis=1)"
      ],
      "metadata": {
        "execution": {
          "iopub.status.busy": "2023-09-02T05:01:57.424706Z",
          "iopub.execute_input": "2023-09-02T05:01:57.425803Z",
          "iopub.status.idle": "2023-09-02T05:01:57.469276Z",
          "shell.execute_reply.started": "2023-09-02T05:01:57.425763Z",
          "shell.execute_reply": "2023-09-02T05:01:57.467892Z"
        },
        "trusted": true,
        "id": "kCyrEgvIHdeC"
      },
      "execution_count": null,
      "outputs": []
    },
    {
      "cell_type": "code",
      "source": [
        "y = df[\"Outcome\"]\n",
        "X = df.drop(\"Outcome\", axis=1)\n",
        "X=pd.get_dummies(X)"
      ],
      "metadata": {
        "id": "t18AfuseMtNK"
      },
      "execution_count": null,
      "outputs": []
    },
    {
      "cell_type": "markdown",
      "source": [
        "# Training the Models"
      ],
      "metadata": {
        "id": "urJY97WHHdeD"
      }
    },
    {
      "cell_type": "code",
      "source": [
        "X_train, X_test, y_train, y_test = train_test_split(X, y, test_size = 0.25, random_state = 42)"
      ],
      "metadata": {
        "execution": {
          "iopub.status.busy": "2023-09-02T05:01:58.35981Z",
          "iopub.execute_input": "2023-09-02T05:01:58.360252Z",
          "iopub.status.idle": "2023-09-02T05:01:58.435274Z",
          "shell.execute_reply.started": "2023-09-02T05:01:58.360205Z",
          "shell.execute_reply": "2023-09-02T05:01:58.433735Z"
        },
        "trusted": true,
        "id": "VxSrfyfbHdeD"
      },
      "execution_count": null,
      "outputs": []
    },
    {
      "cell_type": "code",
      "source": [
        "Rclf = RandomForestClassifier(max_depth=10, min_samples_split=100,random_state=42)\n",
        "Rclf.fit(X_train, y_train)\n",
        "Aclf= GaussianNB()\n",
        "Aclf.fit(X_train,y_train)"
      ],
      "metadata": {
        "execution": {
          "iopub.status.busy": "2023-09-02T05:03:42.073522Z",
          "iopub.execute_input": "2023-09-02T05:03:42.077428Z",
          "iopub.status.idle": "2023-09-02T05:03:56.635313Z",
          "shell.execute_reply.started": "2023-09-02T05:03:42.07735Z",
          "shell.execute_reply": "2023-09-02T05:03:56.633664Z"
        },
        "trusted": true,
        "id": "rbXX7yHYHdeD",
        "colab": {
          "base_uri": "https://localhost:8080/",
          "height": 75
        },
        "outputId": "7571e19e-24f3-49a9-efde-f620ec31d7bd"
      },
      "execution_count": null,
      "outputs": [
        {
          "output_type": "execute_result",
          "data": {
            "text/plain": [
              "GaussianNB()"
            ],
            "text/html": [
              "<style>#sk-container-id-3 {color: black;background-color: white;}#sk-container-id-3 pre{padding: 0;}#sk-container-id-3 div.sk-toggleable {background-color: white;}#sk-container-id-3 label.sk-toggleable__label {cursor: pointer;display: block;width: 100%;margin-bottom: 0;padding: 0.3em;box-sizing: border-box;text-align: center;}#sk-container-id-3 label.sk-toggleable__label-arrow:before {content: \"▸\";float: left;margin-right: 0.25em;color: #696969;}#sk-container-id-3 label.sk-toggleable__label-arrow:hover:before {color: black;}#sk-container-id-3 div.sk-estimator:hover label.sk-toggleable__label-arrow:before {color: black;}#sk-container-id-3 div.sk-toggleable__content {max-height: 0;max-width: 0;overflow: hidden;text-align: left;background-color: #f0f8ff;}#sk-container-id-3 div.sk-toggleable__content pre {margin: 0.2em;color: black;border-radius: 0.25em;background-color: #f0f8ff;}#sk-container-id-3 input.sk-toggleable__control:checked~div.sk-toggleable__content {max-height: 200px;max-width: 100%;overflow: auto;}#sk-container-id-3 input.sk-toggleable__control:checked~label.sk-toggleable__label-arrow:before {content: \"▾\";}#sk-container-id-3 div.sk-estimator input.sk-toggleable__control:checked~label.sk-toggleable__label {background-color: #d4ebff;}#sk-container-id-3 div.sk-label input.sk-toggleable__control:checked~label.sk-toggleable__label {background-color: #d4ebff;}#sk-container-id-3 input.sk-hidden--visually {border: 0;clip: rect(1px 1px 1px 1px);clip: rect(1px, 1px, 1px, 1px);height: 1px;margin: -1px;overflow: hidden;padding: 0;position: absolute;width: 1px;}#sk-container-id-3 div.sk-estimator {font-family: monospace;background-color: #f0f8ff;border: 1px dotted black;border-radius: 0.25em;box-sizing: border-box;margin-bottom: 0.5em;}#sk-container-id-3 div.sk-estimator:hover {background-color: #d4ebff;}#sk-container-id-3 div.sk-parallel-item::after {content: \"\";width: 100%;border-bottom: 1px solid gray;flex-grow: 1;}#sk-container-id-3 div.sk-label:hover label.sk-toggleable__label {background-color: #d4ebff;}#sk-container-id-3 div.sk-serial::before {content: \"\";position: absolute;border-left: 1px solid gray;box-sizing: border-box;top: 0;bottom: 0;left: 50%;z-index: 0;}#sk-container-id-3 div.sk-serial {display: flex;flex-direction: column;align-items: center;background-color: white;padding-right: 0.2em;padding-left: 0.2em;position: relative;}#sk-container-id-3 div.sk-item {position: relative;z-index: 1;}#sk-container-id-3 div.sk-parallel {display: flex;align-items: stretch;justify-content: center;background-color: white;position: relative;}#sk-container-id-3 div.sk-item::before, #sk-container-id-3 div.sk-parallel-item::before {content: \"\";position: absolute;border-left: 1px solid gray;box-sizing: border-box;top: 0;bottom: 0;left: 50%;z-index: -1;}#sk-container-id-3 div.sk-parallel-item {display: flex;flex-direction: column;z-index: 1;position: relative;background-color: white;}#sk-container-id-3 div.sk-parallel-item:first-child::after {align-self: flex-end;width: 50%;}#sk-container-id-3 div.sk-parallel-item:last-child::after {align-self: flex-start;width: 50%;}#sk-container-id-3 div.sk-parallel-item:only-child::after {width: 0;}#sk-container-id-3 div.sk-dashed-wrapped {border: 1px dashed gray;margin: 0 0.4em 0.5em 0.4em;box-sizing: border-box;padding-bottom: 0.4em;background-color: white;}#sk-container-id-3 div.sk-label label {font-family: monospace;font-weight: bold;display: inline-block;line-height: 1.2em;}#sk-container-id-3 div.sk-label-container {text-align: center;}#sk-container-id-3 div.sk-container {/* jupyter's `normalize.less` sets `[hidden] { display: none; }` but bootstrap.min.css set `[hidden] { display: none !important; }` so we also need the `!important` here to be able to override the default hidden behavior on the sphinx rendered scikit-learn.org. See: https://github.com/scikit-learn/scikit-learn/issues/21755 */display: inline-block !important;position: relative;}#sk-container-id-3 div.sk-text-repr-fallback {display: none;}</style><div id=\"sk-container-id-3\" class=\"sk-top-container\"><div class=\"sk-text-repr-fallback\"><pre>GaussianNB()</pre><b>In a Jupyter environment, please rerun this cell to show the HTML representation or trust the notebook. <br />On GitHub, the HTML representation is unable to render, please try loading this page with nbviewer.org.</b></div><div class=\"sk-container\" hidden><div class=\"sk-item\"><div class=\"sk-estimator sk-toggleable\"><input class=\"sk-toggleable__control sk-hidden--visually\" id=\"sk-estimator-id-7\" type=\"checkbox\" checked><label for=\"sk-estimator-id-7\" class=\"sk-toggleable__label sk-toggleable__label-arrow\">GaussianNB</label><div class=\"sk-toggleable__content\"><pre>GaussianNB()</pre></div></div></div></div></div>"
            ]
          },
          "metadata": {},
          "execution_count": 29
        }
      ]
    },
    {
      "cell_type": "code",
      "source": [
        "Ry_pred = Rclf.predict(X_test)\n",
        "Ay_pred = Aclf.predict(X_test)"
      ],
      "metadata": {
        "execution": {
          "iopub.status.busy": "2023-09-02T05:03:56.637417Z",
          "iopub.execute_input": "2023-09-02T05:03:56.637827Z",
          "iopub.status.idle": "2023-09-02T05:03:57.533903Z",
          "shell.execute_reply.started": "2023-09-02T05:03:56.637794Z",
          "shell.execute_reply": "2023-09-02T05:03:57.532366Z"
        },
        "trusted": true,
        "id": "rMxWeCY3HdeD"
      },
      "execution_count": null,
      "outputs": []
    },
    {
      "cell_type": "markdown",
      "source": [
        "# Performance Metrics"
      ],
      "metadata": {
        "id": "WrRj0u6HHdeD"
      }
    },
    {
      "cell_type": "markdown",
      "source": [
        "### Confusion Matrix"
      ],
      "metadata": {
        "id": "2cuVc3oQHdeD"
      }
    },
    {
      "cell_type": "code",
      "source": [
        "print('Random Forest Confusion matrix: ')\n",
        "Rconf=confusion_matrix(y_test, Ry_pred)\n",
        "Rconf = (Rconf / np.sum(Rconf)) * 100\n",
        "print(Rconf)\n",
        "print('Gaussian Naive Bayes Confusion matrix: ')\n",
        "Aconf=confusion_matrix(y_test, Ay_pred)\n",
        "Aconf = (Aconf / np.sum(Aconf)) * 100\n",
        "print(Aconf)"
      ],
      "metadata": {
        "execution": {
          "iopub.status.busy": "2023-09-02T05:03:57.536028Z",
          "iopub.execute_input": "2023-09-02T05:03:57.536534Z",
          "iopub.status.idle": "2023-09-02T05:03:57.904708Z",
          "shell.execute_reply.started": "2023-09-02T05:03:57.536488Z",
          "shell.execute_reply": "2023-09-02T05:03:57.901886Z"
        },
        "trusted": true,
        "id": "s4bzppzTHdeD",
        "colab": {
          "base_uri": "https://localhost:8080/"
        },
        "outputId": "f8d91ad5-4661-46da-a59b-cfccb9a83610"
      },
      "execution_count": null,
      "outputs": [
        {
          "output_type": "stream",
          "name": "stdout",
          "text": [
            "Random Forest Confusion matrix: \n",
            "[[85.60872396  0.93424479]\n",
            " [12.03450521  1.42252604]]\n",
            "Gaussian Naive Bayes Confusion matrix: \n",
            "[[73.54817708 12.99479167]\n",
            " [ 6.16861979  7.28841146]]\n"
          ]
        }
      ]
    },
    {
      "cell_type": "markdown",
      "source": [
        "### Accuracy, Precision & F1-Score"
      ],
      "metadata": {
        "id": "JQj2dcydHdeD"
      }
    },
    {
      "cell_type": "code",
      "source": [
        "\n",
        "print(\"Random Forest metrics:\")\n",
        "Raccuracy = accuracy_score(y_test, Ry_pred)\n",
        "print(f\"Accuracy = {round(Raccuracy,2)}\")\n",
        "Rprecision = precision_score(y_test, Ry_pred)\n",
        "print(f\"Precision = {round(Rprecision,2)}\")\n",
        "Rrecall = recall_score(y_test, Ry_pred)\n",
        "print(f\"Recall = {round(Rrecall,2)}\")\n",
        "RF1_score = f1_score(y_test, Ry_pred)\n",
        "print(f\"F1-Score = {round(RF1_score,2)}\")\n",
        "print(\"--------\\nGaussian Naive Bayes Metrics:\")\n",
        "accuracy = accuracy_score(y_test, Ay_pred)\n",
        "print(f\"Accuracy = {round(accuracy,2)}\")\n",
        "precision = precision_score(y_test, Ay_pred)\n",
        "print(f\"Precision = {round(precision,2)}\")\n",
        "recall = recall_score(y_test, Ay_pred)\n",
        "print(f\"Recall = {round(recall,2)}\")\n",
        "F1_score = f1_score(y_test, Ay_pred)\n",
        "print(f\"F1-Score = {round(F1_score,2)}\")"
      ],
      "metadata": {
        "execution": {
          "iopub.status.busy": "2023-09-02T05:03:57.906629Z",
          "iopub.execute_input": "2023-09-02T05:03:57.907076Z",
          "iopub.status.idle": "2023-09-02T05:03:57.993345Z",
          "shell.execute_reply.started": "2023-09-02T05:03:57.907042Z",
          "shell.execute_reply": "2023-09-02T05:03:57.991767Z"
        },
        "trusted": true,
        "id": "F0dxFIyjHdeD",
        "colab": {
          "base_uri": "https://localhost:8080/"
        },
        "outputId": "85bfe86a-606c-479d-b65f-478bfeb45411"
      },
      "execution_count": null,
      "outputs": [
        {
          "output_type": "stream",
          "name": "stdout",
          "text": [
            "Random Forest metrics:\n",
            "Accuracy = 0.87\n",
            "Precision = 0.6\n",
            "Recall = 0.11\n",
            "F1-Score = 0.18\n",
            "--------\n",
            "Gaussian Naive Bayes Metrics:\n",
            "Accuracy = 0.81\n",
            "Precision = 0.36\n",
            "Recall = 0.54\n",
            "F1-Score = 0.43\n"
          ]
        }
      ]
    },
    {
      "cell_type": "markdown",
      "source": [
        "### Classification Report"
      ],
      "metadata": {
        "id": "2_GJayIJHdeE"
      }
    },
    {
      "cell_type": "code",
      "source": [
        "print(\"Random forest report: \",classification_report(y_test, Ry_pred))\n",
        "print(\"Gaussian Naive bayes report: \",classification_report(y_test, Ay_pred))"
      ],
      "metadata": {
        "execution": {
          "iopub.status.busy": "2023-09-02T05:03:57.994945Z",
          "iopub.execute_input": "2023-09-02T05:03:57.995428Z",
          "iopub.status.idle": "2023-09-02T05:03:58.104015Z",
          "shell.execute_reply.started": "2023-09-02T05:03:57.995392Z",
          "shell.execute_reply": "2023-09-02T05:03:58.102277Z"
        },
        "trusted": true,
        "id": "at57dRSFHdeE",
        "colab": {
          "base_uri": "https://localhost:8080/"
        },
        "outputId": "0686f41f-eec4-46be-cbee-3d5784183fc4"
      },
      "execution_count": null,
      "outputs": [
        {
          "output_type": "stream",
          "name": "stdout",
          "text": [
            "              precision    recall  f1-score   support\n",
            "\n",
            "           0       0.88      0.99      0.93     53172\n",
            "           1       0.60      0.11      0.18      8268\n",
            "\n",
            "    accuracy                           0.87     61440\n",
            "   macro avg       0.74      0.55      0.55     61440\n",
            "weighted avg       0.84      0.87      0.83     61440\n",
            "\n",
            "              precision    recall  f1-score   support\n",
            "\n",
            "           0       0.92      0.85      0.88     53172\n",
            "           1       0.36      0.54      0.43      8268\n",
            "\n",
            "    accuracy                           0.81     61440\n",
            "   macro avg       0.64      0.70      0.66     61440\n",
            "weighted avg       0.85      0.81      0.82     61440\n",
            "\n"
          ]
        }
      ]
    },
    {
      "cell_type": "code",
      "source": [
        "new_instance = pd.DataFrame({\n",
        "    'Education Qualification': ['Postgraduate'],\n",
        "    'Gender': ['Feale'],\n",
        "    'Community': ['SC/ST'],\n",
        "    'Disability': ['Yes'],\n",
        "    'Sports': ['Yes'],\n",
        "    'Annual-Percentage': ['90-100'],\n",
        "    'Income': ['Upto 1.5L'],\n",
        "    'India': ['In']\n",
        "})\n",
        "new_instance = pd.get_dummies(new_instance)\n",
        "for col in X_train.columns:\n",
        "   if col not in new_instance.columns:\n",
        "        new_instance[col] = 0\n",
        "new_instance = new_instance[X_train.columns]\n",
        "rfc_prediction = Rclf.predict(new_instance)\n",
        "print(\"Random Forest Classifier Prediction:\", rfc_prediction)\n",
        "gnb_prediction = Aclf.predict(new_instance)\n",
        "print(\"Gaussian Naive Bayes Prediction:\", gnb_prediction)"
      ],
      "metadata": {
        "id": "BcOFUOqmky1Q",
        "colab": {
          "base_uri": "https://localhost:8080/"
        },
        "outputId": "448a52c0-568d-470e-e559-33f77c812879"
      },
      "execution_count": null,
      "outputs": [
        {
          "output_type": "stream",
          "name": "stdout",
          "text": [
            "Random Forest Classifier Prediction: [1]\n",
            "Gaussian Naive Bayes Prediction: [1]\n"
          ]
        }
      ]
    },
    {
      "cell_type": "markdown",
      "source": [
        "# Conclusion"
      ],
      "metadata": {
        "id": "VGOFzpnoHdeE"
      }
    },
    {
      "cell_type": "markdown",
      "source": [
        "* We have got accuracy of 87% for Random Forest while it is 81% for Gaussian Naive Bayes ,thus in general its descent performance. It also shows that ensemble classification is better than singular estimator.\n",
        "* Our precision, recall and f1-score are poor, since we have imbalance dataset for both categories - got scholarship & not got scholarship.\n",
        "* Poor precision, recall and f1-score indicates our prediction of got scholarship is not great. But high acccuracy indicates we are able to predict well.\n",
        "* Thus our model performance is great when our prediction is got no scholarship, and poor  when prediction is got scholarship."
      ],
      "metadata": {
        "id": "N7x-Hv2oHdeE"
      }
    }
  ]
}